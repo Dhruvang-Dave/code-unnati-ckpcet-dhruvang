{
 "cells": [
  {
   "cell_type": "markdown",
   "id": "f2c31391",
   "metadata": {},
   "source": [
    "# Numpy 26/09/2022"
   ]
  },
  {
   "cell_type": "code",
   "execution_count": 50,
   "id": "6d9f13c3",
   "metadata": {},
   "outputs": [],
   "source": [
    "#NumPy is a Python library used for working with arrays. It also has functions for working in domain of linear algebra, fourier transform, and matrices. NumPy was created in 2005 by Travis Oliphant. It is an open source project and you can use it freely.\n",
    "import numpy as np"
   ]
  },
  {
   "cell_type": "markdown",
   "id": "57e5ea91",
   "metadata": {},
   "source": [
    "# Create simple array from the list"
   ]
  },
  {
   "cell_type": "code",
   "execution_count": 51,
   "id": "4491c331",
   "metadata": {},
   "outputs": [
    {
     "data": {
      "text/plain": [
       "array([[1, 2, 3],\n",
       "       [4, 5, 6]])"
      ]
     },
     "execution_count": 51,
     "metadata": {},
     "output_type": "execute_result"
    }
   ],
   "source": [
    "ar = np.array([[1,2,3],[4,5,6]])\n",
    "ar"
   ]
  },
  {
   "cell_type": "code",
   "execution_count": 52,
   "id": "5b4fe213",
   "metadata": {},
   "outputs": [
    {
     "data": {
      "text/plain": [
       "numpy.ndarray"
      ]
     },
     "execution_count": 52,
     "metadata": {},
     "output_type": "execute_result"
    }
   ],
   "source": [
    "type(ar)"
   ]
  },
  {
   "cell_type": "code",
   "execution_count": 53,
   "id": "3304ac02",
   "metadata": {},
   "outputs": [
    {
     "data": {
      "text/plain": [
       "array([['a', 'b', 'c'],\n",
       "       ['d', 'e', 'f']], dtype='<U1')"
      ]
     },
     "execution_count": 53,
     "metadata": {},
     "output_type": "execute_result"
    }
   ],
   "source": [
    "a = np.array([['a','b','c'],['d','e','f']])\n",
    "a"
   ]
  },
  {
   "cell_type": "code",
   "execution_count": 54,
   "id": "c252c01b",
   "metadata": {},
   "outputs": [
    {
     "data": {
      "text/plain": [
       "numpy.ndarray"
      ]
     },
     "execution_count": 54,
     "metadata": {},
     "output_type": "execute_result"
    }
   ],
   "source": [
    "type(a)"
   ]
  },
  {
   "cell_type": "code",
   "execution_count": 55,
   "id": "932496a3",
   "metadata": {},
   "outputs": [
    {
     "data": {
      "text/plain": [
       "2"
      ]
     },
     "execution_count": 55,
     "metadata": {},
     "output_type": "execute_result"
    }
   ],
   "source": [
    "#dimention of array\n",
    "arr.ndim"
   ]
  },
  {
   "cell_type": "code",
   "execution_count": 56,
   "id": "43277792",
   "metadata": {},
   "outputs": [
    {
     "data": {
      "text/plain": [
       "2"
      ]
     },
     "execution_count": 56,
     "metadata": {},
     "output_type": "execute_result"
    }
   ],
   "source": [
    "a.ndim"
   ]
  },
  {
   "cell_type": "code",
   "execution_count": 57,
   "id": "5c447618",
   "metadata": {},
   "outputs": [
    {
     "data": {
      "text/plain": [
       "(3, 5)"
      ]
     },
     "execution_count": 57,
     "metadata": {},
     "output_type": "execute_result"
    }
   ],
   "source": [
    "#shape of array\n",
    "arr.shape"
   ]
  },
  {
   "cell_type": "code",
   "execution_count": 58,
   "id": "9f7c8494",
   "metadata": {},
   "outputs": [
    {
     "data": {
      "text/plain": [
       "(2, 3)"
      ]
     },
     "execution_count": 58,
     "metadata": {},
     "output_type": "execute_result"
    }
   ],
   "source": [
    "a.shape"
   ]
  },
  {
   "cell_type": "code",
   "execution_count": 59,
   "id": "045a38c2",
   "metadata": {},
   "outputs": [
    {
     "name": "stdout",
     "output_type": "stream",
     "text": [
      "Array is :  [[ 1  2  3  4  5]\n",
      " [ 6  7  8  9 10]\n",
      " [11 12 13 14 15]]\n",
      "Dimension of array is :  2\n",
      "Matrix :  (3, 5)\n"
     ]
    }
   ],
   "source": [
    "#3d in 5 ele in each row\n",
    "arr = np.array([[1,2,3,4,5],[6,7,8,9,10],[11,12,13,14,15]])\n",
    "print(\"Array is : \",arr)\n",
    "print(\"Dimension of array is : \",arr.ndim)\n",
    "print(\"Matrix : \" ,arr.shape)"
   ]
  },
  {
   "cell_type": "code",
   "execution_count": 60,
   "id": "7f7defb7",
   "metadata": {},
   "outputs": [
    {
     "name": "stdout",
     "output_type": "stream",
     "text": [
      "<memory at 0x000001D802D02040>\n",
      "<memory at 0x000001D802D02040>\n",
      "<memory at 0x000001D802D02040>\n"
     ]
    }
   ],
   "source": [
    "print(arr.data)\n",
    "print(a.data)\n",
    "print(ar.data)"
   ]
  },
  {
   "cell_type": "markdown",
   "id": "eeb5a628",
   "metadata": {},
   "source": [
    "# Random Number Generator using NumPy"
   ]
  },
  {
   "cell_type": "code",
   "execution_count": 64,
   "id": "a87d2c24",
   "metadata": {},
   "outputs": [],
   "source": [
    "from numpy import random"
   ]
  },
  {
   "cell_type": "code",
   "execution_count": 72,
   "id": "6048e7c0",
   "metadata": {},
   "outputs": [
    {
     "data": {
      "text/plain": [
       "82"
      ]
     },
     "execution_count": 72,
     "metadata": {},
     "output_type": "execute_result"
    }
   ],
   "source": [
    "x= random.randint(100) #range in between 0 to 100\n",
    "x"
   ]
  },
  {
   "cell_type": "code",
   "execution_count": 82,
   "id": "747e37b5",
   "metadata": {},
   "outputs": [
    {
     "name": "stdout",
     "output_type": "stream",
     "text": [
      "799\n",
      "812\n",
      "769\n",
      "618\n",
      "869\n"
     ]
    }
   ],
   "source": [
    "#task 5 random number 0 to 1000\n",
    "for x in range(0,5):\n",
    "    y=random.randint(1000)\n",
    "    print(y)"
   ]
  },
  {
   "cell_type": "code",
   "execution_count": 84,
   "id": "fb4ca9c2",
   "metadata": {},
   "outputs": [
    {
     "name": "stdout",
     "output_type": "stream",
     "text": [
      "623\n",
      "342\n",
      "569\n",
      "217\n",
      "787\n"
     ]
    }
   ],
   "source": [
    "for x in range(0,10,2):\n",
    "    y=random.randint(1000)\n",
    "    print(y)"
   ]
  },
  {
   "cell_type": "code",
   "execution_count": 85,
   "id": "169afbcb",
   "metadata": {},
   "outputs": [
    {
     "data": {
      "text/plain": [
       "0.5338088605591444"
      ]
     },
     "execution_count": 85,
     "metadata": {},
     "output_type": "execute_result"
    }
   ],
   "source": [
    "#Generate the random float number\n",
    "f = random.rand()\n",
    "f"
   ]
  },
  {
   "cell_type": "code",
   "execution_count": 87,
   "id": "bd27e27d",
   "metadata": {},
   "outputs": [
    {
     "name": "stdout",
     "output_type": "stream",
     "text": [
      "0.3214008106331119\n",
      "0.643252830334287\n",
      "0.654057063342149\n",
      "0.699153497739328\n",
      "0.41390884191574173\n",
      "0.861065659366103\n",
      "0.7695273136535847\n",
      "0.7441984112515807\n",
      "0.48242181304456355\n",
      "0.6403517289516565\n",
      "0.3751651933364716\n"
     ]
    }
   ],
   "source": [
    "for x in range(0,11):\n",
    "    f = random.rand()\n",
    "    print(f)"
   ]
  },
  {
   "cell_type": "code",
   "execution_count": 88,
   "id": "cfaeb93e",
   "metadata": {},
   "outputs": [
    {
     "data": {
      "text/plain": [
       "array([46, 33, 25, 24, 65, 31, 20, 35, 36, 52])"
      ]
     },
     "execution_count": 88,
     "metadata": {},
     "output_type": "execute_result"
    }
   ],
   "source": [
    "x =random.randint(100,size=(10))\n",
    "x"
   ]
  },
  {
   "cell_type": "code",
   "execution_count": 90,
   "id": "53f40d2e",
   "metadata": {},
   "outputs": [
    {
     "data": {
      "text/plain": [
       "array([[90, 47,  7, 44, 77, 71, 27, 91, 85, 13],\n",
       "       [35, 80, 11, 36, 53, 82, 21, 19, 10,  6],\n",
       "       [15, 12, 13, 23, 51, 88, 46, 44,  7, 57],\n",
       "       [12, 74, 24, 86, 77, 81, 28, 92, 75, 45],\n",
       "       [77, 67, 61, 50,  5, 82, 34, 28, 66, 57],\n",
       "       [33, 52, 65, 62, 84, 48, 43, 24, 12, 10],\n",
       "       [53, 19, 42, 52,  3, 68, 63, 50, 49, 97],\n",
       "       [13, 81, 86, 54,  0, 88,  5, 50, 31, 35],\n",
       "       [56, 35, 91, 16, 33, 99, 57,  5, 67, 47],\n",
       "       [14, 19, 76, 36,  9, 26, 54, 69, 30, 55]])"
      ]
     },
     "execution_count": 90,
     "metadata": {},
     "output_type": "execute_result"
    }
   ],
   "source": [
    "x =random.randint(100,size=(10,10))\n",
    "x"
   ]
  },
  {
   "cell_type": "code",
   "execution_count": 91,
   "id": "fe61dd9f",
   "metadata": {},
   "outputs": [
    {
     "data": {
      "text/plain": [
       "(10, 10)"
      ]
     },
     "execution_count": 91,
     "metadata": {},
     "output_type": "execute_result"
    }
   ],
   "source": [
    "x.shape"
   ]
  },
  {
   "cell_type": "code",
   "execution_count": 92,
   "id": "d29ad757",
   "metadata": {},
   "outputs": [
    {
     "data": {
      "text/plain": [
       "2"
      ]
     },
     "execution_count": 92,
     "metadata": {},
     "output_type": "execute_result"
    }
   ],
   "source": [
    "x.ndim"
   ]
  },
  {
   "cell_type": "markdown",
   "id": "f38313c2",
   "metadata": {},
   "source": [
    "# 2.8 Measures of Central Tendency"
   ]
  },
  {
   "cell_type": "code",
   "execution_count": 111,
   "id": "c52b16dd",
   "metadata": {},
   "outputs": [
    {
     "data": {
      "text/plain": [
       "array([[0, 6, 1],\n",
       "       [6, 9, 1],\n",
       "       [1, 0, 6]])"
      ]
     },
     "execution_count": 111,
     "metadata": {},
     "output_type": "execute_result"
    }
   ],
   "source": [
    "#Generate random array (3,3)\n",
    "x = random.randint(10, size=(3,3))\n",
    "x"
   ]
  },
  {
   "cell_type": "code",
   "execution_count": 112,
   "id": "82980bfc",
   "metadata": {},
   "outputs": [
    {
     "name": "stdout",
     "output_type": "stream",
     "text": [
      "0\n"
     ]
    }
   ],
   "source": [
    "#Min Value\n",
    "print(np.amin(x))"
   ]
  },
  {
   "cell_type": "code",
   "execution_count": 113,
   "id": "61a30102",
   "metadata": {},
   "outputs": [
    {
     "name": "stdout",
     "output_type": "stream",
     "text": [
      "9\n"
     ]
    }
   ],
   "source": [
    "#Max Value\n",
    "print(np.amax(x))"
   ]
  },
  {
   "cell_type": "markdown",
   "id": "92c7cbf3",
   "metadata": {},
   "source": [
    "# Mean Median Standard Deviation and Variance"
   ]
  },
  {
   "cell_type": "code",
   "execution_count": 114,
   "id": "0c923d39",
   "metadata": {},
   "outputs": [
    {
     "name": "stdout",
     "output_type": "stream",
     "text": [
      "Mean of array :  3.3333333333333335\n",
      "Median of array :  1.0\n",
      "StandardDeviation of array :  3.197221015541813\n",
      "Variance of array :  10.222222222222221\n"
     ]
    }
   ],
   "source": [
    "print(\"Mean of array : \",np.mean(x))\n",
    "print(\"Median of array : \",np.median(x))\n",
    "print(\"StandardDeviation of array : \",np.std(x))\n",
    "print(\"Variance of array : \",np.var(x))"
   ]
  },
  {
   "cell_type": "markdown",
   "id": "3ca76be9",
   "metadata": {},
   "source": [
    "# Array Broadcasting using NumPy"
   ]
  },
  {
   "cell_type": "code",
   "execution_count": 123,
   "id": "602624ae",
   "metadata": {},
   "outputs": [
    {
     "name": "stdout",
     "output_type": "stream",
     "text": [
      "[84 94 45 64 43]\n",
      "[2 9 7 2 8]\n"
     ]
    }
   ],
   "source": [
    "x = random.randint(100,size=(5))\n",
    "y = random.randint(10,size=(5))\n",
    "print(x)\n",
    "print(y)"
   ]
  },
  {
   "cell_type": "code",
   "execution_count": 124,
   "id": "8ffd8c96",
   "metadata": {},
   "outputs": [
    {
     "data": {
      "text/plain": [
       "array([ 86, 103,  52,  66,  51])"
      ]
     },
     "execution_count": 124,
     "metadata": {},
     "output_type": "execute_result"
    }
   ],
   "source": [
    "x+y"
   ]
  },
  {
   "cell_type": "code",
   "execution_count": 125,
   "id": "f5f51c51",
   "metadata": {},
   "outputs": [
    {
     "data": {
      "text/plain": [
       "array([168, 846, 315, 128, 344])"
      ]
     },
     "execution_count": 125,
     "metadata": {},
     "output_type": "execute_result"
    }
   ],
   "source": [
    "x*y"
   ]
  },
  {
   "cell_type": "code",
   "execution_count": 126,
   "id": "280b977d",
   "metadata": {},
   "outputs": [
    {
     "data": {
      "text/plain": [
       "array([42.        , 10.44444444,  6.42857143, 32.        ,  5.375     ])"
      ]
     },
     "execution_count": 126,
     "metadata": {},
     "output_type": "execute_result"
    }
   ],
   "source": [
    "x/y"
   ]
  },
  {
   "cell_type": "code",
   "execution_count": null,
   "id": "992c1595",
   "metadata": {},
   "outputs": [],
   "source": []
  }
 ],
 "metadata": {
  "kernelspec": {
   "display_name": "Python 3 (ipykernel)",
   "language": "python",
   "name": "python3"
  },
  "language_info": {
   "codemirror_mode": {
    "name": "ipython",
    "version": 3
   },
   "file_extension": ".py",
   "mimetype": "text/x-python",
   "name": "python",
   "nbconvert_exporter": "python",
   "pygments_lexer": "ipython3",
   "version": "3.9.12"
  }
 },
 "nbformat": 4,
 "nbformat_minor": 5
}
