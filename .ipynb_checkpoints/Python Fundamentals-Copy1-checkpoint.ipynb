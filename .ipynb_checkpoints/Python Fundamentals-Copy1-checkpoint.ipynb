{
 "cells": [
  {
   "cell_type": "markdown",
   "id": "c0e7ce5b",
   "metadata": {},
   "source": [
    "# UNIT 1 : Python Fundamentals"
   ]
  },
  {
   "cell_type": "markdown",
   "id": "bb9c233e",
   "metadata": {},
   "source": [
    "# My first Python Program"
   ]
  },
  {
   "cell_type": "code",
   "execution_count": 1,
   "id": "c7ec9f10",
   "metadata": {},
   "outputs": [
    {
     "name": "stdout",
     "output_type": "stream",
     "text": [
      "Hello! Harshad Prajapati\n"
     ]
    }
   ],
   "source": [
    "#my first python program\n",
    "print(\"Hello! Harshad Prajapati\")"
   ]
  },
  {
   "cell_type": "code",
   "execution_count": 2,
   "id": "8c852e84",
   "metadata": {},
   "outputs": [
    {
     "name": "stdout",
     "output_type": "stream",
     "text": [
      "Hello Surat\n"
     ]
    }
   ],
   "source": [
    "print(\"Hello Surat\")"
   ]
  },
  {
   "cell_type": "markdown",
   "id": "9087a9d8",
   "metadata": {},
   "source": [
    "\n",
    "# Datatypes in Python"
   ]
  },
  {
   "cell_type": "code",
   "execution_count": 3,
   "id": "ec2c6531",
   "metadata": {},
   "outputs": [],
   "source": [
    "a=10 #int\n",
    "b=10.5 #float\n",
    "c=\"Harshad\" #string\n",
    "d= True #boolean"
   ]
  },
  {
   "cell_type": "code",
   "execution_count": 4,
   "id": "6039277d",
   "metadata": {},
   "outputs": [],
   "source": [
    "A = 15\n",
    "B = 15.3\n",
    "C = \"Prajapati\"\n",
    "D = False"
   ]
  },
  {
   "cell_type": "code",
   "execution_count": 5,
   "id": "f7825250",
   "metadata": {},
   "outputs": [
    {
     "data": {
      "text/plain": [
       "15"
      ]
     },
     "execution_count": 5,
     "metadata": {},
     "output_type": "execute_result"
    }
   ],
   "source": [
    "A"
   ]
  },
  {
   "cell_type": "code",
   "execution_count": 6,
   "id": "4f843d65",
   "metadata": {},
   "outputs": [
    {
     "data": {
      "text/plain": [
       "10"
      ]
     },
     "execution_count": 6,
     "metadata": {},
     "output_type": "execute_result"
    }
   ],
   "source": [
    "a"
   ]
  },
  {
   "cell_type": "code",
   "execution_count": 7,
   "id": "8ee6fb39",
   "metadata": {},
   "outputs": [
    {
     "data": {
      "text/plain": [
       "10.5"
      ]
     },
     "execution_count": 7,
     "metadata": {},
     "output_type": "execute_result"
    }
   ],
   "source": [
    "b"
   ]
  },
  {
   "cell_type": "code",
   "execution_count": 8,
   "id": "fa8365d6",
   "metadata": {},
   "outputs": [
    {
     "data": {
      "text/plain": [
       "15.3"
      ]
     },
     "execution_count": 8,
     "metadata": {},
     "output_type": "execute_result"
    }
   ],
   "source": [
    "B"
   ]
  },
  {
   "cell_type": "code",
   "execution_count": 9,
   "id": "485c1115",
   "metadata": {},
   "outputs": [
    {
     "data": {
      "text/plain": [
       "'Harshad'"
      ]
     },
     "execution_count": 9,
     "metadata": {},
     "output_type": "execute_result"
    }
   ],
   "source": [
    "c"
   ]
  },
  {
   "cell_type": "code",
   "execution_count": 10,
   "id": "8563cfdb",
   "metadata": {},
   "outputs": [
    {
     "data": {
      "text/plain": [
       "'Prajapati'"
      ]
     },
     "execution_count": 10,
     "metadata": {},
     "output_type": "execute_result"
    }
   ],
   "source": [
    "C"
   ]
  },
  {
   "cell_type": "code",
   "execution_count": 11,
   "id": "4c142fc6",
   "metadata": {},
   "outputs": [
    {
     "data": {
      "text/plain": [
       "True"
      ]
     },
     "execution_count": 11,
     "metadata": {},
     "output_type": "execute_result"
    }
   ],
   "source": [
    "d"
   ]
  },
  {
   "cell_type": "code",
   "execution_count": 12,
   "id": "52d2f63e",
   "metadata": {},
   "outputs": [
    {
     "data": {
      "text/plain": [
       "False"
      ]
     },
     "execution_count": 12,
     "metadata": {},
     "output_type": "execute_result"
    }
   ],
   "source": [
    "D"
   ]
  },
  {
   "cell_type": "code",
   "execution_count": 13,
   "id": "ce003350",
   "metadata": {},
   "outputs": [
    {
     "data": {
      "text/plain": [
       "int"
      ]
     },
     "execution_count": 13,
     "metadata": {},
     "output_type": "execute_result"
    }
   ],
   "source": [
    "type(a)"
   ]
  },
  {
   "cell_type": "code",
   "execution_count": 14,
   "id": "2fb56f9e",
   "metadata": {},
   "outputs": [
    {
     "data": {
      "text/plain": [
       "float"
      ]
     },
     "execution_count": 14,
     "metadata": {},
     "output_type": "execute_result"
    }
   ],
   "source": [
    "type(b)"
   ]
  },
  {
   "cell_type": "code",
   "execution_count": 15,
   "id": "2c9ccae5",
   "metadata": {},
   "outputs": [
    {
     "data": {
      "text/plain": [
       "str"
      ]
     },
     "execution_count": 15,
     "metadata": {},
     "output_type": "execute_result"
    }
   ],
   "source": [
    "type(c)"
   ]
  },
  {
   "cell_type": "code",
   "execution_count": 16,
   "id": "a1e2b3c7",
   "metadata": {},
   "outputs": [
    {
     "data": {
      "text/plain": [
       "bool"
      ]
     },
     "execution_count": 16,
     "metadata": {},
     "output_type": "execute_result"
    }
   ],
   "source": [
    "type(d)"
   ]
  },
  {
   "cell_type": "code",
   "execution_count": 17,
   "id": "07a3b839",
   "metadata": {},
   "outputs": [],
   "source": [
    "n1 = 12\n",
    "n2 = 15.4\n",
    "n3 = True\n",
    "n4 = \"Hrsd\"\n",
    "n5 = 2525325255252552523523525\n",
    "n6 = 45\n",
    "n5 = 'A'"
   ]
  },
  {
   "cell_type": "code",
   "execution_count": 18,
   "id": "336a5fdd",
   "metadata": {},
   "outputs": [
    {
     "data": {
      "text/plain": [
       "str"
      ]
     },
     "execution_count": 18,
     "metadata": {},
     "output_type": "execute_result"
    }
   ],
   "source": [
    "type(n5)"
   ]
  },
  {
   "cell_type": "code",
   "execution_count": 19,
   "id": "aed68a9c",
   "metadata": {},
   "outputs": [],
   "source": [
    "FirstName = \"Harshad\"\n",
    "MiddleName = \"J\"\n",
    "LastName = \"Prajapati\"\n",
    "PhoneNo = 94083999\n",
    "Xender = \"Male\"\n",
    "State = \"Gujarat\"\n",
    "Country = \"India\"\n",
    "City = \"Surat\"\n",
    "PinCode = 395004\n",
    "Enrollment = 190090107053"
   ]
  },
  {
   "cell_type": "code",
   "execution_count": 20,
   "id": "2cb51366",
   "metadata": {},
   "outputs": [
    {
     "name": "stdout",
     "output_type": "stream",
     "text": [
      "<class 'int'>\n"
     ]
    }
   ],
   "source": [
    "print(type(PinCode))"
   ]
  },
  {
   "cell_type": "markdown",
   "id": "4308c558",
   "metadata": {},
   "source": [
    "\n",
    "# Arithmetic Operation in Python"
   ]
  },
  {
   "cell_type": "code",
   "execution_count": 21,
   "id": "5dc5722e",
   "metadata": {},
   "outputs": [],
   "source": [
    "n1 = 12\n",
    "n2 = 24\n",
    "n3 = 36\n",
    "n4 = 48"
   ]
  },
  {
   "cell_type": "code",
   "execution_count": 22,
   "id": "65bae854",
   "metadata": {},
   "outputs": [
    {
     "data": {
      "text/plain": [
       "120"
      ]
     },
     "execution_count": 22,
     "metadata": {},
     "output_type": "execute_result"
    }
   ],
   "source": [
    "n = n1+n2+n3+n4\n",
    "n"
   ]
  },
  {
   "cell_type": "code",
   "execution_count": 23,
   "id": "bcee6509",
   "metadata": {},
   "outputs": [
    {
     "data": {
      "text/plain": [
       "497664"
      ]
     },
     "execution_count": 23,
     "metadata": {},
     "output_type": "execute_result"
    }
   ],
   "source": [
    "n = n1*n2*n3*n4\n",
    "n"
   ]
  },
  {
   "cell_type": "code",
   "execution_count": 24,
   "id": "9b5b464d",
   "metadata": {},
   "outputs": [
    {
     "data": {
      "text/plain": [
       "4.0"
      ]
     },
     "execution_count": 24,
     "metadata": {},
     "output_type": "execute_result"
    }
   ],
   "source": [
    "n = n4/n1\n",
    "n"
   ]
  },
  {
   "cell_type": "code",
   "execution_count": 25,
   "id": "ed5df364",
   "metadata": {},
   "outputs": [
    {
     "data": {
      "text/plain": [
       "144"
      ]
     },
     "execution_count": 25,
     "metadata": {},
     "output_type": "execute_result"
    }
   ],
   "source": [
    "n = n1**2\n",
    "n"
   ]
  },
  {
   "cell_type": "code",
   "execution_count": 26,
   "id": "cd4d0afd",
   "metadata": {},
   "outputs": [
    {
     "data": {
      "text/plain": [
       "2"
      ]
     },
     "execution_count": 26,
     "metadata": {},
     "output_type": "execute_result"
    }
   ],
   "source": [
    "n = 12//5\n",
    "n"
   ]
  },
  {
   "cell_type": "code",
   "execution_count": 27,
   "id": "239b7f5d",
   "metadata": {},
   "outputs": [
    {
     "name": "stdout",
     "output_type": "stream",
     "text": [
      "8 4\n"
     ]
    }
   ],
   "source": [
    "a = 4\n",
    "b = 8\n",
    "b = b - a\n",
    "a = b + a\n",
    "print(a,b)"
   ]
  },
  {
   "cell_type": "markdown",
   "id": "84ad38e5",
   "metadata": {},
   "source": [
    "# User Input in Python\n",
    "\n"
   ]
  },
  {
   "cell_type": "code",
   "execution_count": 29,
   "id": "09b87d95",
   "metadata": {},
   "outputs": [
    {
     "name": "stdout",
     "output_type": "stream",
     "text": [
      "Enter the first number : 12\n",
      "Enter the second number : 15\n"
     ]
    }
   ],
   "source": [
    "x = int(input(\"Enter the first number : \"))\n",
    "y = int(input(\"Enter the second number : \"))"
   ]
  },
  {
   "cell_type": "code",
   "execution_count": 30,
   "id": "bb0f3066",
   "metadata": {},
   "outputs": [
    {
     "data": {
      "text/plain": [
       "27"
      ]
     },
     "execution_count": 30,
     "metadata": {},
     "output_type": "execute_result"
    }
   ],
   "source": [
    "z = x+y\n",
    "z"
   ]
  },
  {
   "cell_type": "markdown",
   "id": "5d222e55",
   "metadata": {},
   "source": [
    "# String in Python"
   ]
  },
  {
   "cell_type": "code",
   "execution_count": 33,
   "id": "289b3e31",
   "metadata": {},
   "outputs": [
    {
     "data": {
      "text/plain": [
       "'Harshad Prajapati'"
      ]
     },
     "execution_count": 33,
     "metadata": {},
     "output_type": "execute_result"
    }
   ],
   "source": [
    "#string Concatenation\n",
    "st1 = \"Harshad \"\n",
    "st2 = \"Prajapati\"\n",
    "st = st1 + st2\n",
    "st"
   ]
  },
  {
   "cell_type": "code",
   "execution_count": 34,
   "id": "97186839",
   "metadata": {},
   "outputs": [
    {
     "name": "stdout",
     "output_type": "stream",
     "text": [
      "17\n"
     ]
    }
   ],
   "source": [
    "print(len(st))"
   ]
  },
  {
   "cell_type": "code",
   "execution_count": 35,
   "id": "44e9a5c6",
   "metadata": {},
   "outputs": [
    {
     "data": {
      "text/plain": [
       "'Prajapati'"
      ]
     },
     "execution_count": 35,
     "metadata": {},
     "output_type": "execute_result"
    }
   ],
   "source": [
    "st[8:17]"
   ]
  },
  {
   "cell_type": "markdown",
   "id": "03a7ac75",
   "metadata": {},
   "source": [
    "# Tuple in Python"
   ]
  },
  {
   "cell_type": "code",
   "execution_count": 39,
   "id": "a41f18e2",
   "metadata": {},
   "outputs": [
    {
     "data": {
      "text/plain": [
       "('A', 1, 'B', 2, 'C', 3, 'D')"
      ]
     },
     "execution_count": 39,
     "metadata": {},
     "output_type": "execute_result"
    }
   ],
   "source": [
    "tuple1 = (\"A\" , 1 , \"B\" , 2 , \"C\" , 3 , \"D\") \n",
    "tuple1"
   ]
  },
  {
   "cell_type": "code",
   "execution_count": 42,
   "id": "6f19ee76",
   "metadata": {},
   "outputs": [
    {
     "data": {
      "text/plain": [
       "(1, 'B', 2, 'C', 3, 'D')"
      ]
     },
     "execution_count": 42,
     "metadata": {},
     "output_type": "execute_result"
    }
   ],
   "source": [
    "tuple1[1:] #tail"
   ]
  },
  {
   "cell_type": "code",
   "execution_count": 43,
   "id": "b4d9c188",
   "metadata": {},
   "outputs": [
    {
     "data": {
      "text/plain": [
       "'A'"
      ]
     },
     "execution_count": 43,
     "metadata": {},
     "output_type": "execute_result"
    }
   ],
   "source": [
    "tuple1[-7] #head"
   ]
  },
  {
   "cell_type": "code",
   "execution_count": 44,
   "id": "b1aa6172",
   "metadata": {},
   "outputs": [
    {
     "data": {
      "text/plain": [
       "tuple"
      ]
     },
     "execution_count": 44,
     "metadata": {},
     "output_type": "execute_result"
    }
   ],
   "source": [
    "type(tuple1)"
   ]
  },
  {
   "cell_type": "code",
   "execution_count": 45,
   "id": "1ae73eed",
   "metadata": {},
   "outputs": [
    {
     "data": {
      "text/plain": [
       "('A',)"
      ]
     },
     "execution_count": 45,
     "metadata": {},
     "output_type": "execute_result"
    }
   ],
   "source": [
    "tuple1[0:1]"
   ]
  },
  {
   "cell_type": "code",
   "execution_count": 46,
   "id": "25816cbd",
   "metadata": {},
   "outputs": [
    {
     "data": {
      "text/plain": [
       "('A', 1, 'B', 2, 'C', 3, 'D', 4, 'E', 5)"
      ]
     },
     "execution_count": 46,
     "metadata": {},
     "output_type": "execute_result"
    }
   ],
   "source": [
    "tuple2 = (4 , \"E\" , 5)\n",
    "tuple3 = tuple1 + tuple2\n",
    "tuple3"
   ]
  },
  {
   "cell_type": "code",
   "execution_count": 47,
   "id": "c67d7b0b",
   "metadata": {},
   "outputs": [
    {
     "ename": "TypeError",
     "evalue": "'tuple' object doesn't support item deletion",
     "output_type": "error",
     "traceback": [
      "\u001b[1;31m---------------------------------------------------------------------------\u001b[0m",
      "\u001b[1;31mTypeError\u001b[0m                                 Traceback (most recent call last)",
      "Input \u001b[1;32mIn [47]\u001b[0m, in \u001b[0;36m<cell line: 1>\u001b[1;34m()\u001b[0m\n\u001b[1;32m----> 1\u001b[0m \u001b[38;5;28;01mdel\u001b[39;00m tuple1[\u001b[38;5;241m0\u001b[39m]\n",
      "\u001b[1;31mTypeError\u001b[0m: 'tuple' object doesn't support item deletion"
     ]
    }
   ],
   "source": [
    "del tuple1[0]"
   ]
  },
  {
   "cell_type": "markdown",
   "id": "e74abcdc",
   "metadata": {},
   "source": [
    "# List in Python"
   ]
  },
  {
   "cell_type": "code",
   "execution_count": 54,
   "id": "901f0d7d",
   "metadata": {},
   "outputs": [
    {
     "data": {
      "text/plain": [
       "[1, 2, 3, 4, 5]"
      ]
     },
     "execution_count": 54,
     "metadata": {},
     "output_type": "execute_result"
    }
   ],
   "source": [
    "list1 = [1,2,3,4,5]\n",
    "list2 = [6,7,8,9,10]\n",
    "list1"
   ]
  },
  {
   "cell_type": "code",
   "execution_count": 55,
   "id": "ef29cc1d",
   "metadata": {},
   "outputs": [
    {
     "data": {
      "text/plain": [
       "list"
      ]
     },
     "execution_count": 55,
     "metadata": {},
     "output_type": "execute_result"
    }
   ],
   "source": [
    "type(list1)"
   ]
  },
  {
   "cell_type": "code",
   "execution_count": 56,
   "id": "978ebc65",
   "metadata": {},
   "outputs": [
    {
     "data": {
      "text/plain": [
       "[1, 2, 3, 4, 5, 6, 7, 8, 9, 10]"
      ]
     },
     "execution_count": 56,
     "metadata": {},
     "output_type": "execute_result"
    }
   ],
   "source": [
    "list3 = list1 + list2 \n",
    "list3"
   ]
  },
  {
   "cell_type": "code",
   "execution_count": 57,
   "id": "185df729",
   "metadata": {},
   "outputs": [
    {
     "data": {
      "text/plain": [
       "10"
      ]
     },
     "execution_count": 57,
     "metadata": {},
     "output_type": "execute_result"
    }
   ],
   "source": [
    "len(list3)"
   ]
  },
  {
   "cell_type": "code",
   "execution_count": 58,
   "id": "173ab5d5",
   "metadata": {},
   "outputs": [
    {
     "data": {
      "text/plain": [
       "[1, 2, 3, 4, 6, 7, 8, 9, 10]"
      ]
     },
     "execution_count": 58,
     "metadata": {},
     "output_type": "execute_result"
    }
   ],
   "source": [
    "list3.remove(5)\n",
    "list3"
   ]
  },
  {
   "cell_type": "markdown",
   "id": "6f26129c",
   "metadata": {},
   "source": [
    "# Disctionary in Python\n"
   ]
  },
  {
   "cell_type": "code",
   "execution_count": 65,
   "id": "e1283c76",
   "metadata": {},
   "outputs": [
    {
     "data": {
      "text/plain": [
       "{'Name': 'Harshad',\n",
       " 'Full Name': 'Harshad Prajapati',\n",
       " 'Branch': 'Computer',\n",
       " 'Enrollment No': '190090107053'}"
      ]
     },
     "execution_count": 65,
     "metadata": {},
     "output_type": "execute_result"
    }
   ],
   "source": [
    "dict1 = {\"Name\" : \"Harshad\" , \"Full Name\" : \"Harshad Prajapati\" , \"Branch\" : \"Computer\" , \"Enrollment No\" : \"190090107053\"}\n",
    "dict1"
   ]
  },
  {
   "cell_type": "code",
   "execution_count": 66,
   "id": "17263021",
   "metadata": {},
   "outputs": [
    {
     "data": {
      "text/plain": [
       "4"
      ]
     },
     "execution_count": 66,
     "metadata": {},
     "output_type": "execute_result"
    }
   ],
   "source": [
    "len(dict1)"
   ]
  },
  {
   "cell_type": "code",
   "execution_count": 67,
   "id": "1a0fcc0b",
   "metadata": {},
   "outputs": [
    {
     "data": {
      "text/plain": [
       "dict"
      ]
     },
     "execution_count": 67,
     "metadata": {},
     "output_type": "execute_result"
    }
   ],
   "source": [
    "type(dict1)"
   ]
  },
  {
   "cell_type": "code",
   "execution_count": 71,
   "id": "5773f918",
   "metadata": {},
   "outputs": [
    {
     "data": {
      "text/plain": [
       "'Harshad'"
      ]
     },
     "execution_count": 71,
     "metadata": {},
     "output_type": "execute_result"
    }
   ],
   "source": [
    "dict1[\"Name\"]"
   ]
  },
  {
   "cell_type": "markdown",
   "id": "e6eda520",
   "metadata": {},
   "source": [
    "# Package Installation"
   ]
  },
  {
   "cell_type": "code",
   "execution_count": null,
   "id": "0f60cec1",
   "metadata": {},
   "outputs": [],
   "source": [
    "!pip install <pakage name> # if pakage available its gives otherwise error\n",
    "!conda install <pakage name> # if you are using conda"
   ]
  },
  {
   "cell_type": "markdown",
   "id": "70adde12",
   "metadata": {},
   "source": [
    "# Conditional Statement in Python"
   ]
  },
  {
   "cell_type": "markdown",
   "id": "751f0481",
   "metadata": {},
   "source": [
    "# If Statement"
   ]
  },
  {
   "cell_type": "code",
   "execution_count": 84,
   "id": "d3f82a60",
   "metadata": {},
   "outputs": [
    {
     "name": "stdout",
     "output_type": "stream",
     "text": [
      "Enter the number : 16\n",
      "Number is Even\n"
     ]
    }
   ],
   "source": [
    "n = int(input(\"Enter the number : \"))\n",
    "if n%2==0:\n",
    "    print(\"Number is Even\") \n",
    "else:\n",
    "    print(\"Number is odd\")"
   ]
  },
  {
   "cell_type": "markdown",
   "id": "c3c93d7f",
   "metadata": {},
   "source": [
    "# Loops in Python"
   ]
  },
  {
   "cell_type": "code",
   "execution_count": 88,
   "id": "a1e5f6a2",
   "metadata": {},
   "outputs": [
    {
     "name": "stdout",
     "output_type": "stream",
     "text": [
      "1\n",
      "2\n",
      "3\n",
      "4\n",
      "5\n",
      "6\n",
      "7\n",
      "8\n",
      "9\n",
      "10\n"
     ]
    }
   ],
   "source": [
    "for i in  range(1,11):\n",
    "    print(i)"
   ]
  },
  {
   "cell_type": "code",
   "execution_count": null,
   "id": "19337d74",
   "metadata": {},
   "outputs": [],
   "source": []
  }
 ],
 "metadata": {
  "kernelspec": {
   "display_name": "Python 3 (ipykernel)",
   "language": "python",
   "name": "python3"
  },
  "language_info": {
   "codemirror_mode": {
    "name": "ipython",
    "version": 3
   },
   "file_extension": ".py",
   "mimetype": "text/x-python",
   "name": "python",
   "nbconvert_exporter": "python",
   "pygments_lexer": "ipython3",
   "version": "3.9.12"
  }
 },
 "nbformat": 4,
 "nbformat_minor": 5
}
