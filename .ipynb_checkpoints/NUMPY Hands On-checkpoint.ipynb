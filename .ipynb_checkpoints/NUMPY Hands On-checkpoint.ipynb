{
 "cells": [
  {
   "cell_type": "markdown",
   "id": "519d76f2",
   "metadata": {},
   "source": [
    "# Numpy 26/09/2022"
   ]
  },
  {
   "cell_type": "code",
   "execution_count": 50,
   "id": "8f8818cc",
   "metadata": {},
   "outputs": [],
   "source": [
    "#NumPy is a Python library used for working with arrays. It also has functions for working in domain of linear algebra, fourier transform, and matrices. NumPy was created in 2005 by Travis Oliphant. It is an open source project and you can use it freely.\n",
    "import numpy as np"
   ]
  },
  {
   "cell_type": "markdown",
   "id": "9d8f38b5",
   "metadata": {},
   "source": [
    "# Create simple array from the list"
   ]
  },
  {
   "cell_type": "code",
   "execution_count": 51,
   "id": "980f677d",
   "metadata": {},
   "outputs": [
    {
     "data": {
      "text/plain": [
       "array([[1, 2, 3],\n",
       "       [4, 5, 6]])"
      ]
     },
     "execution_count": 51,
     "metadata": {},
     "output_type": "execute_result"
    }
   ],
   "source": [
    "ar = np.array([[1,2,3],[4,5,6]])\n",
    "ar"
   ]
  },
  {
   "cell_type": "code",
   "execution_count": 52,
   "id": "e9e5b218",
   "metadata": {},
   "outputs": [
    {
     "data": {
      "text/plain": [
       "numpy.ndarray"
      ]
     },
     "execution_count": 52,
     "metadata": {},
     "output_type": "execute_result"
    }
   ],
   "source": [
    "type(ar)"
   ]
  },
  {
   "cell_type": "code",
   "execution_count": 53,
   "id": "397a8b7f",
   "metadata": {},
   "outputs": [
    {
     "data": {
      "text/plain": [
       "array([['a', 'b', 'c'],\n",
       "       ['d', 'e', 'f']], dtype='<U1')"
      ]
     },
     "execution_count": 53,
     "metadata": {},
     "output_type": "execute_result"
    }
   ],
   "source": [
    "a = np.array([['a','b','c'],['d','e','f']])\n",
    "a"
   ]
  },
  {
   "cell_type": "code",
   "execution_count": 54,
   "id": "a26ed975",
   "metadata": {},
   "outputs": [
    {
     "data": {
      "text/plain": [
       "numpy.ndarray"
      ]
     },
     "execution_count": 54,
     "metadata": {},
     "output_type": "execute_result"
    }
   ],
   "source": [
    "type(a)"
   ]
  },
  {
   "cell_type": "code",
   "execution_count": 55,
   "id": "5b154de1",
   "metadata": {},
   "outputs": [
    {
     "data": {
      "text/plain": [
       "2"
      ]
     },
     "execution_count": 55,
     "metadata": {},
     "output_type": "execute_result"
    }
   ],
   "source": [
    "#dimention of array\n",
    "arr.ndim"
   ]
  },
  {
   "cell_type": "code",
   "execution_count": 56,
   "id": "3d2b60e3",
   "metadata": {},
   "outputs": [
    {
     "data": {
      "text/plain": [
       "2"
      ]
     },
     "execution_count": 56,
     "metadata": {},
     "output_type": "execute_result"
    }
   ],
   "source": [
    "a.ndim"
   ]
  },
  {
   "cell_type": "code",
   "execution_count": 57,
   "id": "3280569f",
   "metadata": {},
   "outputs": [
    {
     "data": {
      "text/plain": [
       "(3, 5)"
      ]
     },
     "execution_count": 57,
     "metadata": {},
     "output_type": "execute_result"
    }
   ],
   "source": [
    "#shape of array\n",
    "arr.shape"
   ]
  },
  {
   "cell_type": "code",
   "execution_count": 58,
   "id": "b6e47335",
   "metadata": {},
   "outputs": [
    {
     "data": {
      "text/plain": [
       "(2, 3)"
      ]
     },
     "execution_count": 58,
     "metadata": {},
     "output_type": "execute_result"
    }
   ],
   "source": [
    "a.shape"
   ]
  },
  {
   "cell_type": "code",
   "execution_count": 59,
   "id": "3add3376",
   "metadata": {},
   "outputs": [
    {
     "name": "stdout",
     "output_type": "stream",
     "text": [
      "Array is :  [[ 1  2  3  4  5]\n",
      " [ 6  7  8  9 10]\n",
      " [11 12 13 14 15]]\n",
      "Dimension of array is :  2\n",
      "Matrix :  (3, 5)\n"
     ]
    }
   ],
   "source": [
    "#3d in 5 ele in each row\n",
    "arr = np.array([[1,2,3,4,5],[6,7,8,9,10],[11,12,13,14,15]])\n",
    "print(\"Array is : \",arr)\n",
    "print(\"Dimension of array is : \",arr.ndim)\n",
    "print(\"Matrix : \" ,arr.shape)"
   ]
  },
  {
   "cell_type": "code",
   "execution_count": 60,
   "id": "40d946f8",
   "metadata": {},
   "outputs": [
    {
     "name": "stdout",
     "output_type": "stream",
     "text": [
      "<memory at 0x000001D802D02040>\n",
      "<memory at 0x000001D802D02040>\n",
      "<memory at 0x000001D802D02040>\n"
     ]
    }
   ],
   "source": [
    "print(arr.data)\n",
    "print(a.data)\n",
    "print(ar.data)"
   ]
  },
  {
   "cell_type": "markdown",
   "id": "5a59aaeb",
   "metadata": {},
   "source": [
    "# Random Number Generator using NumPy"
   ]
  },
  {
   "cell_type": "code",
   "execution_count": 64,
   "id": "63e2fa78",
   "metadata": {},
   "outputs": [],
   "source": [
    "from numpy import random"
   ]
  },
  {
   "cell_type": "code",
   "execution_count": 72,
   "id": "68fdacda",
   "metadata": {},
   "outputs": [
    {
     "data": {
      "text/plain": [
       "82"
      ]
     },
     "execution_count": 72,
     "metadata": {},
     "output_type": "execute_result"
    }
   ],
   "source": [
    "x= random.randint(100) #range in between 0 to 100\n",
    "x"
   ]
  },
  {
   "cell_type": "code",
   "execution_count": 82,
   "id": "9aff3039",
   "metadata": {},
   "outputs": [
    {
     "name": "stdout",
     "output_type": "stream",
     "text": [
      "799\n",
      "812\n",
      "769\n",
      "618\n",
      "869\n"
     ]
    }
   ],
   "source": [
    "#task 5 random number 0 to 1000\n",
    "for x in range(0,5):\n",
    "    y=random.randint(1000)\n",
    "    print(y)"
   ]
  },
  {
   "cell_type": "code",
   "execution_count": 84,
   "id": "8fe0b1b6",
   "metadata": {},
   "outputs": [
    {
     "name": "stdout",
     "output_type": "stream",
     "text": [
      "623\n",
      "342\n",
      "569\n",
      "217\n",
      "787\n"
     ]
    }
   ],
   "source": [
    "for x in range(0,10,2):\n",
    "    y=random.randint(1000)\n",
    "    print(y)"
   ]
  },
  {
   "cell_type": "code",
   "execution_count": 85,
   "id": "2c9fa1d2",
   "metadata": {},
   "outputs": [
    {
     "data": {
      "text/plain": [
       "0.5338088605591444"
      ]
     },
     "execution_count": 85,
     "metadata": {},
     "output_type": "execute_result"
    }
   ],
   "source": [
    "#Generate the random float number\n",
    "f = random.rand()\n",
    "f"
   ]
  },
  {
   "cell_type": "code",
   "execution_count": 87,
   "id": "3d8d4797",
   "metadata": {},
   "outputs": [
    {
     "name": "stdout",
     "output_type": "stream",
     "text": [
      "0.3214008106331119\n",
      "0.643252830334287\n",
      "0.654057063342149\n",
      "0.699153497739328\n",
      "0.41390884191574173\n",
      "0.861065659366103\n",
      "0.7695273136535847\n",
      "0.7441984112515807\n",
      "0.48242181304456355\n",
      "0.6403517289516565\n",
      "0.3751651933364716\n"
     ]
    }
   ],
   "source": [
    "for x in range(0,11):\n",
    "    f = random.rand()\n",
    "    print(f)"
   ]
  },
  {
   "cell_type": "code",
   "execution_count": 88,
   "id": "aeac578a",
   "metadata": {},
   "outputs": [
    {
     "data": {
      "text/plain": [
       "array([46, 33, 25, 24, 65, 31, 20, 35, 36, 52])"
      ]
     },
     "execution_count": 88,
     "metadata": {},
     "output_type": "execute_result"
    }
   ],
   "source": [
    "x =random.randint(100,size=(10))\n",
    "x"
   ]
  },
  {
   "cell_type": "code",
   "execution_count": 90,
   "id": "8d213659",
   "metadata": {},
   "outputs": [
    {
     "data": {
      "text/plain": [
       "array([[90, 47,  7, 44, 77, 71, 27, 91, 85, 13],\n",
       "       [35, 80, 11, 36, 53, 82, 21, 19, 10,  6],\n",
       "       [15, 12, 13, 23, 51, 88, 46, 44,  7, 57],\n",
       "       [12, 74, 24, 86, 77, 81, 28, 92, 75, 45],\n",
       "       [77, 67, 61, 50,  5, 82, 34, 28, 66, 57],\n",
       "       [33, 52, 65, 62, 84, 48, 43, 24, 12, 10],\n",
       "       [53, 19, 42, 52,  3, 68, 63, 50, 49, 97],\n",
       "       [13, 81, 86, 54,  0, 88,  5, 50, 31, 35],\n",
       "       [56, 35, 91, 16, 33, 99, 57,  5, 67, 47],\n",
       "       [14, 19, 76, 36,  9, 26, 54, 69, 30, 55]])"
      ]
     },
     "execution_count": 90,
     "metadata": {},
     "output_type": "execute_result"
    }
   ],
   "source": [
    "x =random.randint(100,size=(10,10))\n",
    "x"
   ]
  },
  {
   "cell_type": "code",
   "execution_count": 91,
   "id": "b1fb26c0",
   "metadata": {},
   "outputs": [
    {
     "data": {
      "text/plain": [
       "(10, 10)"
      ]
     },
     "execution_count": 91,
     "metadata": {},
     "output_type": "execute_result"
    }
   ],
   "source": [
    "x.shape"
   ]
  },
  {
   "cell_type": "code",
   "execution_count": 92,
   "id": "cb106aa9",
   "metadata": {},
   "outputs": [
    {
     "data": {
      "text/plain": [
       "2"
      ]
     },
     "execution_count": 92,
     "metadata": {},
     "output_type": "execute_result"
    }
   ],
   "source": [
    "x.ndim"
   ]
  },
  {
   "cell_type": "markdown",
   "id": "14b130cf",
   "metadata": {},
   "source": [
    "# 2.8 Measures of Central Tendency"
   ]
  },
  {
   "cell_type": "code",
   "execution_count": 111,
   "id": "17610003",
   "metadata": {},
   "outputs": [
    {
     "data": {
      "text/plain": [
       "array([[0, 6, 1],\n",
       "       [6, 9, 1],\n",
       "       [1, 0, 6]])"
      ]
     },
     "execution_count": 111,
     "metadata": {},
     "output_type": "execute_result"
    }
   ],
   "source": [
    "#Generate random array (3,3)\n",
    "x = random.randint(10, size=(3,3))\n",
    "x"
   ]
  },
  {
   "cell_type": "code",
   "execution_count": 112,
   "id": "a543a8a6",
   "metadata": {},
   "outputs": [
    {
     "name": "stdout",
     "output_type": "stream",
     "text": [
      "0\n"
     ]
    }
   ],
   "source": [
    "#Min Value\n",
    "print(np.amin(x))"
   ]
  },
  {
   "cell_type": "code",
   "execution_count": 113,
   "id": "ec95a7f6",
   "metadata": {},
   "outputs": [
    {
     "name": "stdout",
     "output_type": "stream",
     "text": [
      "9\n"
     ]
    }
   ],
   "source": [
    "#Max Value\n",
    "print(np.amax(x))"
   ]
  },
  {
   "cell_type": "markdown",
   "id": "7fc93acb",
   "metadata": {},
   "source": [
    "# Mean Median Standard Deviation and Variance"
   ]
  },
  {
   "cell_type": "code",
   "execution_count": 114,
   "id": "0764dca6",
   "metadata": {},
   "outputs": [
    {
     "name": "stdout",
     "output_type": "stream",
     "text": [
      "Mean of array :  3.3333333333333335\n",
      "Median of array :  1.0\n",
      "StandardDeviation of array :  3.197221015541813\n",
      "Variance of array :  10.222222222222221\n"
     ]
    }
   ],
   "source": [
    "print(\"Mean of array : \",np.mean(x))\n",
    "print(\"Median of array : \",np.median(x))\n",
    "print(\"StandardDeviation of array : \",np.std(x))\n",
    "print(\"Variance of array : \",np.var(x))"
   ]
  },
  {
   "cell_type": "markdown",
   "id": "a3c6376a",
   "metadata": {},
   "source": [
    "# Array Broadcasting using NumPy"
   ]
  },
  {
   "cell_type": "code",
   "execution_count": 135,
   "id": "567a91a9",
   "metadata": {},
   "outputs": [
    {
     "name": "stdout",
     "output_type": "stream",
     "text": [
      "[71 21  5 92 44]\n",
      "[48 12 43 20 39]\n"
     ]
    }
   ],
   "source": [
    "x = random.randint(100,size=(5))\n",
    "y = random.randint(50,size=(5))\n",
    "print(x)\n",
    "print(y)"
   ]
  },
  {
   "cell_type": "code",
   "execution_count": 136,
   "id": "758572a4",
   "metadata": {},
   "outputs": [
    {
     "data": {
      "text/plain": [
       "array([119,  33,  48, 112,  83])"
      ]
     },
     "execution_count": 136,
     "metadata": {},
     "output_type": "execute_result"
    }
   ],
   "source": [
    "x+y"
   ]
  },
  {
   "cell_type": "code",
   "execution_count": 137,
   "id": "0b5c48c3",
   "metadata": {},
   "outputs": [
    {
     "data": {
      "text/plain": [
       "array([3408,  252,  215, 1840, 1716])"
      ]
     },
     "execution_count": 137,
     "metadata": {},
     "output_type": "execute_result"
    }
   ],
   "source": [
    "x*y"
   ]
  },
  {
   "cell_type": "code",
   "execution_count": 138,
   "id": "00703ab3",
   "metadata": {},
   "outputs": [
    {
     "data": {
      "text/plain": [
       "array([1.47916667, 1.75      , 0.11627907, 4.6       , 1.12820513])"
      ]
     },
     "execution_count": 138,
     "metadata": {},
     "output_type": "execute_result"
    }
   ],
   "source": [
    "x/y"
   ]
  },
  {
   "cell_type": "code",
   "execution_count": null,
   "id": "c594dbdf",
   "metadata": {},
   "outputs": [],
   "source": []
  }
 ],
 "metadata": {
  "kernelspec": {
   "display_name": "Python 3 (ipykernel)",
   "language": "python",
   "name": "python3"
  },
  "language_info": {
   "codemirror_mode": {
    "name": "ipython",
    "version": 3
   },
   "file_extension": ".py",
   "mimetype": "text/x-python",
   "name": "python",
   "nbconvert_exporter": "python",
   "pygments_lexer": "ipython3",
   "version": "3.9.12"
  }
 },
 "nbformat": 4,
 "nbformat_minor": 5
}
